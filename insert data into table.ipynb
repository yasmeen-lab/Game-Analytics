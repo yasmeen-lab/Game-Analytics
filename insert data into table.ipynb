{
 "cells": [
  {
   "cell_type": "markdown",
   "id": "c19f1d8b",
   "metadata": {},
   "source": [
    "# category table data insertion"
   ]
  },
  {
   "cell_type": "code",
   "execution_count": 1,
   "id": "9f5ca583",
   "metadata": {},
   "outputs": [],
   "source": [
    "import mysql.connector\n",
    "import csv\n",
    "\n",
    "conn = mysql.connector.connect(\n",
    "    host=\"127.0.0.1\",\n",
    "    user=\"root\",\n",
    "    password=\"Root@123\",\n",
    "    database=\"tennis_data\"\n",
    ")\n",
    "cursor = conn.cursor()\n",
    "\n",
    "with open('/home/yasmeen/Documents/sportradar_June/Categories_df.csv', 'r') as file:\n",
    "    reader = csv.reader(file)\n",
    "    next(reader)  # Skip header\n",
    "    for row in reader:\n",
    "        cursor.execute(\"INSERT IGNORE INTO category (category_id, category_name) VALUES (%s, %s)\", row)\n",
    "\n",
    "conn.commit()\n",
    "cursor.close()\n",
    "conn.close()\n"
   ]
  },
  {
   "cell_type": "markdown",
   "id": "37b5edef",
   "metadata": {},
   "source": [
    "# competition table data insertion"
   ]
  },
  {
   "cell_type": "code",
   "execution_count": 2,
   "id": "8b3f01de",
   "metadata": {},
   "outputs": [],
   "source": [
    "import mysql.connector\n",
    "import csv\n",
    "\n",
    "conn = mysql.connector.connect(\n",
    "    host=\"127.0.0.1\",\n",
    "    user=\"root\",\n",
    "    password=\"Root@123\",\n",
    "    database=\"tennis_data\"\n",
    ")\n",
    "cursor = conn.cursor()\n",
    "\n",
    "with open('/home/yasmeen/Documents/sportradar_June/Competitions_df.csv', 'r') as file:\n",
    "    reader = csv.reader(file)\n",
    "    next(reader)  # Skip header\n",
    "    for row in reader:\n",
    "        cursor.execute(\"\"\"\n",
    "            INSERT IGNORE INTO competition \n",
    "            (competition_id, competition_name, parent_id, type, gender, category_id) \n",
    "            VALUES (%s, %s, %s, %s, %s, %s)\n",
    "        \"\"\", row)\n",
    "\n",
    "conn.commit()\n",
    "cursor.close()\n",
    "conn.close()\n"
   ]
  },
  {
   "cell_type": "markdown",
   "id": "c427a319",
   "metadata": {},
   "source": [
    "# complexes table data insertion"
   ]
  },
  {
   "cell_type": "code",
   "execution_count": 3,
   "id": "3d9cbc42",
   "metadata": {},
   "outputs": [],
   "source": [
    "import mysql.connector\n",
    "import csv\n",
    "\n",
    "conn = mysql.connector.connect(\n",
    "    host=\"127.0.0.1\",\n",
    "    user=\"root\",\n",
    "    password=\"Root@123\",\n",
    "    database=\"tennis_data\"\n",
    ")\n",
    "cursor = conn.cursor()\n",
    "\n",
    "with open('/home/yasmeen/Documents/sportradar_June/complexes_df.csv', 'r') as file:\n",
    "    reader = csv.reader(file)\n",
    "    next(reader)  # Skip header\n",
    "    for row in reader:\n",
    "        cursor.execute(\"\"\"\n",
    "            INSERT IGNORE INTO complex \n",
    "            (complex_id, complex_name) \n",
    "            VALUES (%s, %s)\n",
    "        \"\"\", row)\n",
    "\n",
    "conn.commit()\n",
    "cursor.close()\n",
    "conn.close()\n"
   ]
  },
  {
   "cell_type": "markdown",
   "id": "ea271963",
   "metadata": {},
   "source": [
    "# venues table data insertion"
   ]
  },
  {
   "cell_type": "code",
   "execution_count": 5,
   "id": "1fae3d41",
   "metadata": {},
   "outputs": [],
   "source": [
    "import mysql.connector\n",
    "import csv\n",
    "\n",
    "# Connect to MySQL\n",
    "conn = mysql.connector.connect(\n",
    "    host=\"127.0.0.1\",\n",
    "    user=\"root\",\n",
    "    password=\"Root@123\",\n",
    "    database=\"tennis_data\"\n",
    ")\n",
    "cursor = conn.cursor()\n",
    "\n",
    "# Open and load the venue CSV file\n",
    "with open('/home/yasmeen/Documents/sportradar_June/venues_df.csv', 'r') as file:\n",
    "    reader = csv.reader(file)\n",
    "    next(reader)  # Skip header row\n",
    "    for row in reader:\n",
    "        cursor.execute(\"\"\"\n",
    "            INSERT IGNORE INTO venues \n",
    "            (venue_id, venue_name, city_name, country_name, country_code, timezone, complex_id)\n",
    "            VALUES (%s, %s, %s, %s, %s, %s, %s)\n",
    "        \"\"\", row)\n",
    "\n",
    "# Commit and close\n",
    "conn.commit()\n",
    "cursor.close()\n",
    "conn.close()\n"
   ]
  },
  {
   "cell_type": "markdown",
   "id": "e682b247",
   "metadata": {},
   "source": [
    "# competitors rankings data insertion"
   ]
  },
  {
   "cell_type": "code",
   "execution_count": 26,
   "id": "abaf9f53",
   "metadata": {},
   "outputs": [
    {
     "name": "stdout",
     "output_type": "stream",
     "text": [
      "✅ Data inserted into competitor_rankings table.\n"
     ]
    }
   ],
   "source": [
    "import mysql.connector\n",
    "import csv\n",
    "\n",
    "# Connect to MySQL\n",
    "conn = mysql.connector.connect(\n",
    "    host=\"127.0.0.1\",\n",
    "    user=\"root\",\n",
    "    password=\"Root@123\",\n",
    "    database=\"tennis_data\"\n",
    ")\n",
    "cursor = conn.cursor()\n",
    "\n",
    "# Read the CSV and insert (skipping rank_id)\n",
    "with open('/home/yasmeen/Documents/sportradar_June/competitor_rankings.csv', 'r') as file:\n",
    "    reader = csv.reader(file)\n",
    "    next(reader)  # skip header\n",
    "    for row in reader:\n",
    "        try:\n",
    "            cursor.execute(\"\"\"\n",
    "                INSERT INTO competitor_rankings \n",
    "                (`rank`, movement, points, competitions_played, competitor_id)\n",
    "                VALUES (%s, %s, %s, %s, %s)\n",
    "            \"\"\", (\n",
    "                int(row[0]),  # rank\n",
    "                int(row[1]),  # movement\n",
    "                int(row[2]),  # points\n",
    "                int(row[3]),  # competitions_played\n",
    "                row[4]        # competitor_id\n",
    "            ))\n",
    "        except Exception as e:\n",
    "            print(f\"Failed to insert row {row}: {e}\")\n",
    "\n",
    "# Finalize\n",
    "conn.commit()\n",
    "cursor.close()\n",
    "conn.close()\n",
    "print(\"✅ Data inserted into competitor_rankings table.\")\n"
   ]
  },
  {
   "cell_type": "code",
   "execution_count": 25,
   "id": "efd82967",
   "metadata": {},
   "outputs": [
    {
     "name": "stdout",
     "output_type": "stream",
     "text": [
      "✅ Data inserted into competitors table.\n"
     ]
    }
   ],
   "source": [
    "import mysql.connector\n",
    "import csv\n",
    "\n",
    "# Connect to MySQL\n",
    "conn = mysql.connector.connect(\n",
    "    host=\"127.0.0.1\",\n",
    "    user=\"root\",\n",
    "    password=\"Root@123\",\n",
    "    database=\"tennis_data\"\n",
    ")\n",
    "cursor = conn.cursor()\n",
    "\n",
    "# Read and insert from CSV\n",
    "with open('/home/yasmeen/Documents/sportradar_June/competitors.csv', 'r', encoding='utf-8') as file:\n",
    "    reader = csv.reader(file)\n",
    "    next(reader)  # Skip header\n",
    "\n",
    "    for row in reader:\n",
    "        try:\n",
    "            cursor.execute(\"\"\"\n",
    "                INSERT INTO competitors \n",
    "                (competitor_id, name, country, country_code, abbreviation)\n",
    "                VALUES (%s, %s, %s, %s, %s)\n",
    "            \"\"\", (\n",
    "                row[0],  # competitor_id\n",
    "                row[1],  # name\n",
    "                row[2],  # country\n",
    "                row[3],  # country_code\n",
    "                row[4]   # abbreviation\n",
    "            ))\n",
    "        except Exception as e:\n",
    "            print(f\"Failed to insert row {row}: {e}\")\n",
    "\n",
    "# Finalize\n",
    "conn.commit()\n",
    "cursor.close()\n",
    "conn.close()\n",
    "print(\"✅ Data inserted into competitors table.\")\n"
   ]
  },
  {
   "cell_type": "code",
   "execution_count": null,
   "id": "e798f146",
   "metadata": {},
   "outputs": [],
   "source": []
  }
 ],
 "metadata": {
  "kernelspec": {
   "display_name": "Python 3 (ipykernel)",
   "language": "python",
   "name": "python3"
  },
  "language_info": {
   "codemirror_mode": {
    "name": "ipython",
    "version": 3
   },
   "file_extension": ".py",
   "mimetype": "text/x-python",
   "name": "python",
   "nbconvert_exporter": "python",
   "pygments_lexer": "ipython3",
   "version": "3.8.8"
  }
 },
 "nbformat": 4,
 "nbformat_minor": 5
}
